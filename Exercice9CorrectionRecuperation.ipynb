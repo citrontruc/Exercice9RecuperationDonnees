{
 "cells": [
  {
   "cell_type": "markdown",
   "metadata": {},
   "source": [
    "# But du notebook\n",
    "---\n",
    "\n",
    "Ce notebook sert à récupérer des données en utilisant l'API de genius lyrics afin d'en construire une base de données."
   ]
  },
  {
   "cell_type": "markdown",
   "metadata": {},
   "source": [
    "## Import des librairies"
   ]
  },
  {
   "cell_type": "code",
   "execution_count": null,
   "metadata": {},
   "outputs": [],
   "source": [
    "import lyricsgenius"
   ]
  },
  {
   "cell_type": "code",
   "execution_count": null,
   "metadata": {},
   "outputs": [],
   "source": [
    "# Nous récuperons notre clé d'API\n",
    "with open(\"genius_client_access_token.txt\", \"r\") as f:\n",
    "    GENIUS_API_TOKEN = f.read()"
   ]
  },
  {
   "cell_type": "markdown",
   "metadata": {},
   "source": [
    "## Récupération des données"
   ]
  },
  {
   "cell_type": "code",
   "execution_count": null,
   "metadata": {},
   "outputs": [],
   "source": [
    "# Afin de récupérer nos données, nous devons créer une connexion au serveur genius.\n",
    "genius = lyricsgenius.Genius(GENIUS_API_TOKEN)\n",
    "\n",
    "# On peut choisir de marquer les couplets / refrains\n",
    "genius.remove_section_headers = True \n",
    "# On peut choisir d'exclure des chansons basées sur leur titres. Conseillé de ne pas faire (il vaut mieux tout garder et faire le tri après).\n",
    "genius.excluded_terms = [\"(Remix)\", \"(Live)\", \"version\"] \n",
    "genius.timeout = 10\n",
    "genius.sleep_time = 5\n",
    "genius.retries = 3"
   ]
  },
  {
   "cell_type": "code",
   "execution_count": null,
   "metadata": {},
   "outputs": [],
   "source": [
    "# On récupère la liste de tous les groupes à récupérer\n",
    "with open(\"band_name.txt\", \"r\") as f:\n",
    "    band_list = f.readlines()"
   ]
  },
  {
   "cell_type": "code",
   "execution_count": null,
   "metadata": {},
   "outputs": [],
   "source": [
    "# récupérer les dernières paroles des groupes\n",
    "\n",
    "for band in band_list[18:]:\n",
    "    try:\n",
    "        artist = genius.search_artist(band.replace(\"\\n\", \"\"))\n",
    "        # On enregistre les JSON de données au fur et à mesure\n",
    "        artist.save_lyrics()\n",
    "    except Exception as e:\n",
    "       print(e)"
   ]
  },
  {
   "cell_type": "code",
   "execution_count": null,
   "metadata": {},
   "outputs": [],
   "source": [
    "# Il est possible de faire des recherches par artistes\n",
    "artist = genius.search_artist(\"Breaking Benjamin\")\n",
    "#artist = genius.search_artist(\"Breaking Benjamin\", max_songs=3, sort=\"title\")\n",
    "#print(artist.songs)"
   ]
  },
  {
   "cell_type": "code",
   "execution_count": null,
   "metadata": {},
   "outputs": [],
   "source": [
    "# Il est aussi possible de récupérer par chansons\n",
    "song = artist.song(\"Diary of Jane\")\n",
    "# or:\n",
    "# song = genius.search_song(\"To You\", artist.name)\n",
    "print(song.lyrics)"
   ]
  },
  {
   "cell_type": "markdown",
   "metadata": {},
   "source": [
    "## Partie 2) Retravail des chansons\n",
    "---\n",
    "\n",
    "Dans cette partie, nous partons du principe que les paroles de chansons ont été récupérées et qu'elles ont été déposées dans un dossier appelé \"lyrics\""
   ]
  },
  {
   "cell_type": "markdown",
   "metadata": {},
   "source": [
    "## Import des librairies"
   ]
  },
  {
   "cell_type": "code",
   "execution_count": null,
   "metadata": {},
   "outputs": [],
   "source": [
    "import json\n",
    "import os\n",
    "import numpy as np\n",
    "import pandas as pd"
   ]
  },
  {
   "cell_type": "code",
   "execution_count": null,
   "metadata": {},
   "outputs": [],
   "source": [
    "# chemin relatif du dossier\n",
    "folder_lyrics = \"lyrics\" \n",
    "# Récupération des fichiers json\n",
    "file_names = [f for f in os.listdir(folder_lyrics) if f.endswith(\".json\")]\n",
    "\n",
    "lyrics_list = []\n",
    "for json_lyrics_file in file_names:\n",
    "    file_path = os.path.join(folder_lyrics, json_lyrics_file)\n",
    "\n",
    "    with open(file_path, \"r\") as my_file:\n",
    "        lyrics_list.append(json.load(my_file))"
   ]
  },
  {
   "cell_type": "markdown",
   "metadata": {},
   "source": []
  },
  {
   "cell_type": "code",
   "execution_count": null,
   "metadata": {},
   "outputs": [],
   "source": [
    "# Note : du fait du processus de récupération des données, les chansons avec les strings \"live\", \"version\" et \"remix\" ont été exclus. Cela peut mener à des chansons exclus accidentellement\n",
    "# Par exemple \"help I'm alive\" de metric. Dans notre cas, on considère que ce n'est pas grave car 1) Il nous reste beaucoup de chansons. 2) Les groupes vont continuer d'en écrire ==> On ne sera jamais à jour\n",
    "# 3) Le but est de faire une analyse + génération de chansons. Dans les deux cas, on estime qu'une poignée de chansons ne va pas changer la donne.\n",
    "# Attention : dans les conditions réelles, il est conseillé de stocker toutes les données et de les nettoyer seulement dans un deuxième temps car du coup on ne peut pas évaluer les dégâts.\n",
    "# Attention bis : on possède aussi des covers (architects a fait une cover de deftones par exemple). On conserve car on suppose qu'un groupe choisit ses covers et qu'elles sont donc dans un univers musical proche du groupe\n",
    "\n",
    "list_to_exclude = [\"acoustic\", \"session\", \"instrumental\", \"(demo)\", \"(demo\", \"demo)\", \"- demo\", \"radio edit\", \"single edit\", \"piano reprise\", \"unplugged\"]\n",
    "all_songs = []\n",
    "\n",
    "for k in range(len(lyrics_list)):\n",
    "    i=0\n",
    "    band_name = lyrics_list[k][\"name\"]\n",
    "    song_list = lyrics_list[k][\"songs\"]\n",
    "    for individual_song in song_list:\n",
    "        song_title = individual_song[\"title\"]\n",
    "        i+=1\n",
    "        # On ne récupère pas dans la table de données les morceaux indiquées comme étant des \"versions d'une même chanson\"\n",
    "        song_to_exclude = [word in song_title.lower() for word in list_to_exclude]\n",
    "        if True not in song_to_exclude:\n",
    "            # On ne garde que les chansons en anglais\n",
    "            if individual_song[\"language\"] == \"en\":\n",
    "                release_date = individual_song[\"release_date\"]\n",
    "                release_date_for_display = individual_song[\"release_date_for_display\"]\n",
    "                if \"pageviews\" in individual_song[\"stats\"]:\n",
    "                    lyrics_view = individual_song[\"stats\"][\"pageviews\"]\n",
    "                else:\n",
    "                    lyrics_view = np.NaN\n",
    "                feat = individual_song[\"featured_artists\"]\n",
    "                primary_artist_name = individual_song[\"primary_artist\"][\"name\"]\n",
    "                is_feat = (len(feat) > 0)\n",
    "                if individual_song[\"album\"] is not None:\n",
    "                    album_name = individual_song[\"album\"][\"name\"]\n",
    "                else:\n",
    "                    album_name = None\n",
    "                if len(individual_song[\"lyrics\"].split(\"Lyrics\")) > 1:\n",
    "                    lyrics = individual_song[\"lyrics\"].split(\"Lyrics\")[1]\n",
    "                else:\n",
    "                    lyrics = None\n",
    "                all_songs.append({\"band_name\" : band_name, \n",
    "                                \"song_title\" : song_title, \n",
    "                                \"album_name\" : album_name, \n",
    "                                \"lyrics\" : lyrics, \n",
    "                                \"release_date\" : release_date, \n",
    "                                \"release_date_for_display\" : release_date_for_display, \n",
    "                                \"lyrics_view\" : lyrics_view, \n",
    "                                \"feat\" : feat, \n",
    "                                \"is_feat\" : is_feat, \n",
    "                                \"primary_artist_name\" : primary_artist_name})"
   ]
  },
  {
   "cell_type": "code",
   "execution_count": null,
   "metadata": {},
   "outputs": [],
   "source": [
    "# Enregistrement des paroles récupérées\n",
    "pd.DataFrame(all_songs).to_csv(\"all_songs.csv\", sep=\";\", index=False, encoding=\"utf-8\")"
   ]
  }
 ],
 "metadata": {
  "kernelspec": {
   "display_name": "Python 3",
   "language": "python",
   "name": "python3"
  },
  "language_info": {
   "codemirror_mode": {
    "name": "ipython",
    "version": 3
   },
   "file_extension": ".py",
   "mimetype": "text/x-python",
   "name": "python",
   "nbconvert_exporter": "python",
   "pygments_lexer": "ipython3",
   "version": "3.11.6"
  }
 },
 "nbformat": 4,
 "nbformat_minor": 2
}
