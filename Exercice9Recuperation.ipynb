{
 "cells": [
  {
   "cell_type": "markdown",
   "metadata": {},
   "source": [
    "# But de ce notebook\n",
    "---\n",
    "\n",
    "Le but de ce notebook est de récupérer les données depuis GeniusLyrics afin de pouvoir ensuite en construire une base de données."
   ]
  },
  {
   "cell_type": "markdown",
   "metadata": {},
   "source": [
    "## Import des librairies"
   ]
  },
  {
   "cell_type": "code",
   "execution_count": null,
   "metadata": {},
   "outputs": [],
   "source": []
  },
  {
   "cell_type": "markdown",
   "metadata": {},
   "source": [
    "## Partie 1) Récupération des données\n",
    "---\n",
    "1) Trouvez comment récupérer des données depuis l'API de Genius et récupérez l'intégralité des chansons de Poets of the Fall."
   ]
  },
  {
   "cell_type": "code",
   "execution_count": null,
   "metadata": {},
   "outputs": [],
   "source": []
  },
  {
   "cell_type": "markdown",
   "metadata": {},
   "source": [
    "## Partie 2) \n",
    "---\n",
    "1) A partir des données récupérées, faites en sorte de les mettre en forme afin qu'elles aient la même forme que le jeu de données à celles de [ce repository](https://github.com/citrontruc/Exercice7SongAnalysis/tree/main). N'oubliez pas de supprimez les versions alternative d'une même chanson (comme par exemple les versions live)."
   ]
  },
  {
   "cell_type": "code",
   "execution_count": null,
   "metadata": {},
   "outputs": [],
   "source": []
  }
 ],
 "metadata": {
  "language_info": {
   "name": "python"
  }
 },
 "nbformat": 4,
 "nbformat_minor": 2
}
